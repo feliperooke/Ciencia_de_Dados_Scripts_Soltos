{
 "cells": [
  {
   "cell_type": "code",
   "execution_count": 1,
   "metadata": {},
   "outputs": [],
   "source": [
    "%matplotlib inline\n",
    "import pandas as pd\n",
    "import matplotlib.pyplot as plt\n",
    "import datetime\n",
    "import numpy as np"
   ]
  },
  {
   "cell_type": "code",
   "execution_count": 2,
   "metadata": {},
   "outputs": [
    {
     "name": "stdout",
     "output_type": "stream",
     "text": [
      "Reading CSV...\n",
      "2018-12-18 16:56:41.050937\n",
      "2018-12-18 16:56:49.767668\n",
      "Finish\n",
      "\n"
     ]
    }
   ],
   "source": [
    "print('Reading CSV...')\n",
    "print(datetime.datetime.now())\n",
    "\n",
    "data = pd.read_csv('Vancouver_bookings_all.csv')\n",
    "\n",
    "print(datetime.datetime.now())\n",
    "print('Finish\\n')"
   ]
  },
  {
   "cell_type": "markdown",
   "metadata": {},
   "source": [
    "# Total de Carros"
   ]
  },
  {
   "cell_type": "code",
   "execution_count": 3,
   "metadata": {},
   "outputs": [
    {
     "data": {
      "text/plain": [
       "1113"
      ]
     },
     "execution_count": 3,
     "metadata": {},
     "output_type": "execute_result"
    }
   ],
   "source": [
    "total_cars = len(data.plate.unique())\n",
    "total_cars"
   ]
  },
  {
   "cell_type": "markdown",
   "metadata": {},
   "source": [
    "# Seleciona apenas os dados necessários"
   ]
  },
  {
   "cell_type": "code",
   "execution_count": 4,
   "metadata": {},
   "outputs": [],
   "source": [
    "data = data[['init_date','final_date','plate','distance']]"
   ]
  },
  {
   "cell_type": "markdown",
   "metadata": {},
   "source": [
    "#  Passa para o formato datetime"
   ]
  },
  {
   "cell_type": "code",
   "execution_count": 5,
   "metadata": {},
   "outputs": [],
   "source": [
    "data['init_date'] = pd.to_datetime(data['init_date'])\n",
    "data['final_date'] = pd.to_datetime(data['final_date'])"
   ]
  },
  {
   "cell_type": "markdown",
   "metadata": {},
   "source": [
    "# Adiciona duração da viagem"
   ]
  },
  {
   "cell_type": "code",
   "execution_count": 6,
   "metadata": {},
   "outputs": [],
   "source": [
    "data['duracao'] = (data['final_date']-data['init_date']).astype('timedelta64[m]')"
   ]
  },
  {
   "cell_type": "markdown",
   "metadata": {},
   "source": [
    "# Separa dataset de dias de semana e finais de semana"
   ]
  },
  {
   "cell_type": "code",
   "execution_count": 16,
   "metadata": {},
   "outputs": [],
   "source": [
    "# 5 = sabado e 6 = domingo\n",
    "weekends_numbers = [5, 6] # Num of weekends \n",
    "\n",
    "weekends = data[data['init_date'].dt.dayofweek.isin(weekends_numbers)] # Weekends travels\n",
    "weekdays = data[~data['init_date'].dt.dayofweek.isin(weekends_numbers)] # Weekdays travels"
   ]
  },
  {
   "cell_type": "markdown",
   "metadata": {},
   "source": [
    "# Cria array minuto a minuto da coleta"
   ]
  },
  {
   "cell_type": "code",
   "execution_count": 8,
   "metadata": {},
   "outputs": [],
   "source": [
    "all_minutes = pd.date_range(data.init_date.min(), data.final_date.max(), freq='min')"
   ]
  },
  {
   "cell_type": "markdown",
   "metadata": {},
   "source": [
    "#  1 - Percorre todos os minutos de coleta pegando a qtd de carros coletados por minuto (Todos os registros, inclusive reservas)\n",
    "\n",
    "## Dias de Semana"
   ]
  },
  {
   "cell_type": "code",
   "execution_count": 9,
   "metadata": {},
   "outputs": [
    {
     "name": "stderr",
     "output_type": "stream",
     "text": [
      "/home/rooke/.anaconda2/lib/python2.7/site-packages/ipykernel_launcher.py:1: SettingWithCopyWarning: \n",
      "A value is trying to be set on a copy of a slice from a DataFrame\n",
      "\n",
      "See the caveats in the documentation: http://pandas.pydata.org/pandas-docs/stable/indexing.html#indexing-view-versus-copy\n",
      "  \"\"\"Entry point for launching an IPython kernel.\n",
      "/home/rooke/.anaconda2/lib/python2.7/site-packages/ipykernel_launcher.py:2: SettingWithCopyWarning: \n",
      "A value is trying to be set on a copy of a slice from a DataFrame\n",
      "\n",
      "See the caveats in the documentation: http://pandas.pydata.org/pandas-docs/stable/indexing.html#indexing-view-versus-copy\n",
      "  \n"
     ]
    }
   ],
   "source": [
    "busy = []\n",
    "\n",
    "for minuto in all_minutes:\n",
    "    carros_no_minuto = len(weekdays[(weekdays['init_date'] <= minuto) & (minuto < weekdays['final_date'])].plate.unique())    \n",
    "    busy.append([minuto, carros_no_minuto])\n",
    "\n",
    "preprocess_weekdays = pd.DataFrame(busy, columns=['date','count'])"
   ]
  },
  {
   "cell_type": "markdown",
   "metadata": {},
   "source": [
    "# 2 - Cria array com todos os minutos de um dia"
   ]
  },
  {
   "cell_type": "code",
   "execution_count": 10,
   "metadata": {},
   "outputs": [],
   "source": [
    "minutes = pd.date_range(start='2016-12-31 00:00:00', end='2016-12-31 23:59:00', freq='min')\n",
    "minutos = minutes.time"
   ]
  },
  {
   "cell_type": "markdown",
   "metadata": {},
   "source": [
    "# 3 - Cria estrutura para contabilizar a quantidade de carros por minuto e a quantidade daquele minuto que tem carros"
   ]
  },
  {
   "cell_type": "code",
   "execution_count": 11,
   "metadata": {},
   "outputs": [],
   "source": [
    "result = {}\n",
    "\n",
    "for reg in preprocess_weekdays.values:\n",
    "    indice = str(reg[0].hour)+':'+str(reg[0].minute)\n",
    "    #tem o indice?\n",
    "    if not result.has_key(indice):\n",
    "        result[indice] = [0,0]\n",
    "    \n",
    "    if (reg[1] > 0):\n",
    "        result[indice][0] += reg[1]\n",
    "        result[indice][1] += 1"
   ]
  },
  {
   "cell_type": "markdown",
   "metadata": {},
   "source": [
    "# 4 - Cria uma estrutura para contabilizar a variância"
   ]
  },
  {
   "cell_type": "code",
   "execution_count": 12,
   "metadata": {},
   "outputs": [],
   "source": [
    "desvio = {}\n",
    "\n",
    "for reg in preprocess_weekdays.values:\n",
    "    indice = str(reg[0].hour)+':'+str(reg[0].minute)\n",
    "    #tem o indice?\n",
    "    if not desvio.has_key(indice):\n",
    "        desvio[indice] = 0.0\n",
    "    \n",
    "    if (reg[1] > 0):\n",
    "        media = result[indice][0]/result[indice][1]\n",
    "        std = ((reg[1]-media)**2)/result[indice][1]\n",
    "        desvio[indice] += std"
   ]
  },
  {
   "cell_type": "markdown",
   "metadata": {},
   "source": [
    "# 5 - Tranforma a variância em desvio padrão"
   ]
  },
  {
   "cell_type": "code",
   "execution_count": 13,
   "metadata": {},
   "outputs": [],
   "source": [
    "import math\n",
    "\n",
    "for reg in desvio:\n",
    "    desvio[reg] = math.sqrt(desvio[reg])"
   ]
  },
  {
   "cell_type": "markdown",
   "metadata": {},
   "source": [
    "# 6 - Cria dataframe com todas essas informações"
   ]
  },
  {
   "cell_type": "code",
   "execution_count": 14,
   "metadata": {},
   "outputs": [],
   "source": [
    "weekdays_compilado_booked = []\n",
    "\n",
    "for reg in result:\n",
    "    media = result[reg][0]/result[reg][1]\n",
    "    weekdays_compilado_booked.append([reg, media, desvio[reg]])\n",
    "    \n",
    "weekdays_compilado_booked\n",
    "df_weekdays_compilado_booked = pd.DataFrame(weekdays_compilado_booked, columns=['time','mean','std'])\n",
    "# muda tipo do dado\n",
    "df_weekdays_compilado_booked['time'] = pd.to_datetime(df_weekdays_compilado_booked['time'], format=\"%H:%M\")\n",
    "# ordena por minuto\n",
    "df_weekdays_compilado_booked = df_weekdays_compilado_booked.sort_values(by=['time'])"
   ]
  },
  {
   "cell_type": "markdown",
   "metadata": {},
   "source": [
    "# Repete dos passos 1 a 6 para os outros conjuntos de dados"
   ]
  },
  {
   "cell_type": "markdown",
   "metadata": {},
   "source": [
    "## Dias de Semana que tem viagens > 30min ou distancia > 3metros"
   ]
  },
  {
   "cell_type": "code",
   "execution_count": 51,
   "metadata": {},
   "outputs": [],
   "source": [
    "#print len(weekdays[(weekdays['duracao'] <= 30) & (weekdays['distance'] < 3)])\n",
    "#print len(weekdays[(weekdays['duracao'] <= 30) & (weekdays['distance'] < 40)])\n",
    "#print len(weekdays)\n",
    "#print len(weekdays[~((weekdays['duracao'] <= 30) & (weekdays['distance'] < 3))])\n",
    "#print len(weekdays)-len(weekdays[~((weekdays['duracao'] <= 30) & (weekdays['distance'] < 3))])"
   ]
  },
  {
   "cell_type": "code",
   "execution_count": 17,
   "metadata": {},
   "outputs": [],
   "source": [
    "weekdays = weekdays[(weekdays['duracao'] >= 30) | (weekdays['distance'] > 3)]\n",
    "\n",
    "#1\n",
    "busy = []\n",
    "\n",
    "for minuto in all_minutes:\n",
    "    carros_no_minuto = len(weekdays[(weekdays['init_date'] <= minuto) & (minuto < weekdays['final_date'])].plate.unique())    \n",
    "    busy.append([minuto, carros_no_minuto])\n",
    "\n",
    "preprocess_weekdays = pd.DataFrame(busy, columns=['date','count'])\n",
    "\n",
    "#2\n",
    "minutes = pd.date_range(start='2016-12-31 00:00:00', end='2016-12-31 23:59:00', freq='min')\n",
    "minutos = minutes.time\n",
    "\n",
    "#3\n",
    "result = {}\n",
    "\n",
    "for reg in preprocess_weekdays.values:\n",
    "    indice = str(reg[0].hour)+':'+str(reg[0].minute)\n",
    "    #tem o indice?\n",
    "    if not result.has_key(indice):\n",
    "        result[indice] = [0,0]\n",
    "    \n",
    "    if (reg[1] > 0):\n",
    "        result[indice][0] += reg[1]\n",
    "        result[indice][1] += 1\n",
    "    \n",
    "#4\n",
    "desvio = {}\n",
    "\n",
    "for reg in preprocess_weekdays.values:\n",
    "    indice = str(reg[0].hour)+':'+str(reg[0].minute)\n",
    "    #tem o indice?\n",
    "    if not desvio.has_key(indice):\n",
    "        desvio[indice] = 0.0\n",
    "    \n",
    "    if (reg[1] > 0):\n",
    "        media = result[indice][0]/result[indice][1]\n",
    "        std = ((reg[1]-media)**2)/result[indice][1]\n",
    "        desvio[indice] += std\n",
    "    \n",
    "#5\n",
    "import math\n",
    "\n",
    "for reg in desvio:\n",
    "    desvio[reg] = math.sqrt(desvio[reg])\n",
    "\n",
    "#6\n",
    "weekdays_compilado_busy = []\n",
    "\n",
    "for reg in result:\n",
    "    media = result[reg][0]/result[reg][1]\n",
    "    weekdays_compilado_busy.append([reg, media, desvio[reg]])\n",
    "    \n",
    "\n",
    "df_weekdays_compilado_busy = pd.DataFrame(weekdays_compilado_busy, columns=['time','mean','std'])\n",
    "# muda tipo do dado\n",
    "df_weekdays_compilado_busy['time'] = pd.to_datetime(df_weekdays_compilado_busy['time'], format=\"%H:%M\")\n",
    "# ordena por minuto\n",
    "df_weekdays_compilado_busy = df_weekdays_compilado_busy.sort_values(by=['time'])\n"
   ]
  },
  {
   "cell_type": "markdown",
   "metadata": {},
   "source": [
    "## Finais de Semana"
   ]
  },
  {
   "cell_type": "code",
   "execution_count": 18,
   "metadata": {},
   "outputs": [],
   "source": [
    "\n",
    "#1\n",
    "busy = []\n",
    "\n",
    "for minuto in all_minutes:\n",
    "    carros_no_minuto = len(weekends[(weekends['init_date'] <= minuto) & (minuto < weekends['final_date'])].plate.unique())    \n",
    "    busy.append([minuto, carros_no_minuto])\n",
    "\n",
    "preprocess_weekends = pd.DataFrame(busy, columns=['date','count'])\n",
    "\n",
    "#2\n",
    "minutes = pd.date_range(start='2016-12-31 00:00:00', end='2016-12-31 23:59:00', freq='min')\n",
    "minutos = minutes.time\n",
    "\n",
    "#3\n",
    "result = {}\n",
    "\n",
    "for reg in preprocess_weekends.values:\n",
    "    indice = str(reg[0].hour)+':'+str(reg[0].minute)\n",
    "    #tem o indice?\n",
    "    if not result.has_key(indice):\n",
    "        result[indice] = [0,0]\n",
    "    \n",
    "    if (reg[1] > 0):\n",
    "        result[indice][0] += reg[1]\n",
    "        result[indice][1] += 1\n",
    "    \n",
    "#4\n",
    "desvio = {}\n",
    "\n",
    "for reg in preprocess_weekends.values:\n",
    "    indice = str(reg[0].hour)+':'+str(reg[0].minute)\n",
    "    #tem o indice?\n",
    "    if not desvio.has_key(indice):\n",
    "        desvio[indice] = 0.0\n",
    "    \n",
    "    if (reg[1] > 0):\n",
    "        media = result[indice][0]/result[indice][1]\n",
    "        std = ((reg[1]-media)**2)/result[indice][1]\n",
    "        desvio[indice] += std\n",
    "    \n",
    "#5\n",
    "import math\n",
    "\n",
    "for reg in desvio:\n",
    "    desvio[reg] = math.sqrt(desvio[reg])\n",
    "\n",
    "#6\n",
    "weekends_compilado_booked = []\n",
    "\n",
    "for reg in result:\n",
    "    media = result[reg][0]/result[reg][1]\n",
    "    weekends_compilado_booked.append([reg, media, desvio[reg]])\n",
    "    \n",
    "\n",
    "df_weekends_compilado_booked = pd.DataFrame(weekends_compilado_booked, columns=['time','mean','std'])\n",
    "# muda tipo do dado\n",
    "df_weekends_compilado_booked['time'] = pd.to_datetime(df_weekends_compilado_booked['time'], format=\"%H:%M\")\n",
    "# ordena por minuto\n",
    "df_weekends_compilado_booked = df_weekends_compilado_booked.sort_values(by=['time'])\n"
   ]
  },
  {
   "cell_type": "markdown",
   "metadata": {},
   "source": [
    "## Finais de Semana que tem viagens > 30min ou distancia > 3metros"
   ]
  },
  {
   "cell_type": "code",
   "execution_count": 19,
   "metadata": {},
   "outputs": [],
   "source": [
    "weekends = weekends[(weekends['duracao'] >= 30) | (weekends['distance'] > 3)]\n",
    "\n",
    "#1\n",
    "busy = []\n",
    "\n",
    "for minuto in all_minutes:\n",
    "    carros_no_minuto = len(weekends[(weekends['init_date'] <= minuto) & (minuto < weekends['final_date'])].plate.unique())    \n",
    "    busy.append([minuto, carros_no_minuto])\n",
    "\n",
    "preprocess_weekends = pd.DataFrame(busy, columns=['date','count'])\n",
    "\n",
    "#2\n",
    "minutes = pd.date_range(start='2016-12-31 00:00:00', end='2016-12-31 23:59:00', freq='min')\n",
    "minutos = minutes.time\n",
    "\n",
    "#3\n",
    "result = {}\n",
    "\n",
    "for reg in preprocess_weekends.values:\n",
    "    indice = str(reg[0].hour)+':'+str(reg[0].minute)\n",
    "    #tem o indice?\n",
    "    if not result.has_key(indice):\n",
    "        result[indice] = [0,0]\n",
    "    \n",
    "    if (reg[1] > 0):\n",
    "        result[indice][0] += reg[1]\n",
    "        result[indice][1] += 1\n",
    "    \n",
    "#4\n",
    "desvio = {}\n",
    "\n",
    "for reg in preprocess_weekends.values:\n",
    "    indice = str(reg[0].hour)+':'+str(reg[0].minute)\n",
    "    #tem o indice?\n",
    "    if not desvio.has_key(indice):\n",
    "        desvio[indice] = 0.0\n",
    "    \n",
    "    if (reg[1] > 0):\n",
    "        media = result[indice][0]/result[indice][1]\n",
    "        std = ((reg[1]-media)**2)/result[indice][1]\n",
    "        desvio[indice] += std\n",
    "    \n",
    "#5\n",
    "import math\n",
    "\n",
    "for reg in desvio:\n",
    "    desvio[reg] = math.sqrt(desvio[reg])\n",
    "\n",
    "#6\n",
    "weekends_compilado_busy = []\n",
    "\n",
    "for reg in result:\n",
    "    media = result[reg][0]/result[reg][1]\n",
    "    weekends_compilado_busy.append([reg, media, desvio[reg]])\n",
    "    \n",
    "\n",
    "df_weekends_compilado_busy = pd.DataFrame(weekends_compilado_busy, columns=['time','mean','std'])\n",
    "# muda tipo do dado\n",
    "df_weekends_compilado_busy['time'] = pd.to_datetime(df_weekends_compilado_busy['time'], format=\"%H:%M\")\n",
    "# ordena por minuto\n",
    "df_weekends_compilado_busy = df_weekends_compilado_busy.sort_values(by=['time'])"
   ]
  },
  {
   "cell_type": "markdown",
   "metadata": {},
   "source": [
    "# Salva todos os dados"
   ]
  },
  {
   "cell_type": "code",
   "execution_count": 20,
   "metadata": {},
   "outputs": [],
   "source": [
    "df_weekdays_compilado_busy.to_csv(\"df_weekdays_compilado_busy.csv\")\n",
    "df_weekdays_compilado_booked.to_csv(\"df_weekdays_compilado_booked.csv\")\n",
    "df_weekends_compilado_busy.to_csv(\"df_weekends_compilado_busy.csv\")\n",
    "df_weekends_compilado_booked.to_csv(\"df_weekends_compilado_booked.csv\")"
   ]
  },
  {
   "cell_type": "markdown",
   "metadata": {},
   "source": [
    "# Plotando dias de Semana"
   ]
  },
  {
   "cell_type": "code",
   "execution_count": 30,
   "metadata": {},
   "outputs": [
    {
     "data": {
      "image/png": "[encoded data removed]",
      "text/plain": [
       "<matplotlib.figure.Figure at 0x7f8c077b4f90>"
      ]
     },
     "metadata": {},
     "output_type": "display_data"
    }
   ],
   "source": [
    "# Plot da media das porcentagens dos dias de semana\n",
    "fig, ax = plt.subplots()\n",
    "# Curva dos carros andando\n",
    "ax.plot(range(len(df_weekdays_compilado_booked['time'])), (df_weekdays_compilado_booked['mean']*100/total_cars), color=\"#920000\", label='Reserved')\n",
    "\n",
    "std_sup = ((df_weekdays_compilado_booked['mean']+df_weekdays_compilado_booked['std'])*100/total_cars)\n",
    "std_inf = ((df_weekdays_compilado_booked['mean']-df_weekdays_compilado_booked['std'])*100/total_cars)\n",
    "\n",
    "# Curvas representando o intervalo de desvio padrão\n",
    "ax.fill_between(range(len(df_weekdays_compilado_booked['time'])), std_sup, std_inf, facecolor='#ffb677', alpha=0.6)\n",
    "\n",
    "# Curva dos carros andando\n",
    "ax.plot(range(len(df_weekdays_compilado_busy['time'])), (df_weekdays_compilado_busy['mean']*100/total_cars), color=\"#006ddb\", label='Busy')\n",
    "\n",
    "std_sup = ((df_weekdays_compilado_busy['mean']+df_weekdays_compilado_busy['std'])*100/total_cars)\n",
    "std_inf = ((df_weekdays_compilado_busy['mean']-df_weekdays_compilado_busy['std'])*100/total_cars)\n",
    "\n",
    "# Curvas representando o intervalo de desvio padrão\n",
    "ax.fill_between(range(len(df_weekdays_compilado_busy['time'])), std_sup, std_inf, facecolor='#b6dbff', alpha=0.6)\n",
    "\n",
    "# Modificando os labels das horas\n",
    "ax.xaxis.set_ticks(np.arange(0, 1441, 120))\n",
    "\n",
    "fig.canvas.draw()\n",
    "\n",
    "labels = [item.get_text() for item in ax.get_xticklabels()]\n",
    "labels = range(0,26,2)\n",
    "\n",
    "ax.set_xticklabels(labels)\n",
    "\n",
    "# Legendas e label dos eixos\n",
    "plt.legend(bbox_to_anchor=(0.01, 0.99), loc=2, borderaxespad=0.2)\n",
    "plt.ylabel('Percentage')\n",
    "plt.xlabel('Hour')\n",
    "plt.ylim(0,100)\n",
    "plt.xlim(0,1440)\n",
    "\n",
    "# Salvando o plot\n",
    "plt.savefig('weekdayslim.pdf')\n",
    "plt.show()"
   ]
  },
  {
   "cell_type": "markdown",
   "metadata": {},
   "source": [
    "# Plotando Fins de Semana"
   ]
  },
  {
   "cell_type": "code",
   "execution_count": 31,
   "metadata": {},
   "outputs": [
    {
     "data": {
      "image/png": "[encoded data removed]",
      "text/plain": [
       "<matplotlib.figure.Figure at 0x7f8c0770b850>"
      ]
     },
     "metadata": {},
     "output_type": "display_data"
    }
   ],
   "source": [
    "# Plot da media das porcentagens dos dias de semana\n",
    "fig, ax = plt.subplots()\n",
    "# Curva dos carros andando\n",
    "ax.plot(range(len(df_weekends_compilado_booked['time'])), (df_weekends_compilado_booked['mean']*100/total_cars), color=\"#920000\", label='Reserved')\n",
    "\n",
    "std_sup = ((df_weekends_compilado_booked['mean']+df_weekends_compilado_booked['std'])*100/total_cars)\n",
    "std_inf = ((df_weekends_compilado_booked['mean']-df_weekends_compilado_booked['std'])*100/total_cars)\n",
    "\n",
    "# Curvas representando o intervalo de desvio padrão\n",
    "ax.fill_between(range(len(df_weekends_compilado_booked['time'])), std_sup, std_inf, facecolor='#ffb677', alpha=0.6)\n",
    "\n",
    "# Curva dos carros andando\n",
    "ax.plot(range(len(df_weekends_compilado_busy['time'])), (df_weekends_compilado_busy['mean']*100/total_cars), color=\"#006ddb\", label='Busy')\n",
    "\n",
    "std_sup = ((df_weekends_compilado_busy['mean']+df_weekends_compilado_busy['std'])*100/total_cars)\n",
    "std_inf = ((df_weekends_compilado_busy['mean']-df_weekends_compilado_busy['std'])*100/total_cars)\n",
    "\n",
    "# Curvas representando o intervalo de desvio padrão\n",
    "ax.fill_between(range(len(df_weekends_compilado_busy['time'])), std_sup, std_inf, facecolor='#b6dbff', alpha=0.6)\n",
    "\n",
    "# Modificando os labels das horas\n",
    "ax.xaxis.set_ticks(np.arange(0, 1441, 120))\n",
    "\n",
    "fig.canvas.draw()\n",
    "\n",
    "labels = [item.get_text() for item in ax.get_xticklabels()]\n",
    "labels = range(0,26,2)\n",
    "\n",
    "ax.set_xticklabels(labels)\n",
    "\n",
    "# Legendas e label dos eixos\n",
    "plt.legend(bbox_to_anchor=(0.01, 0.99), loc=2, borderaxespad=0.2)\n",
    "plt.ylabel('Percentage')\n",
    "plt.xlabel('Hour')\n",
    "plt.ylim(0,100)\n",
    "plt.xlim(0,1440)\n",
    "\n",
    "# Salvando o plot\n",
    "plt.savefig('weekendslim.pdf')\n",
    "plt.show()"
   ]
  }
 ],
 "metadata": {
  "kernelspec": {
   "display_name": "Python 2",
   "language": "python",
   "name": "python2"
  },
  "language_info": {
   "codemirror_mode": {
    "name": "ipython",
    "version": 2
   },
   "file_extension": ".py",
   "mimetype": "text/x-python",
   "name": "python",
   "nbconvert_exporter": "python",
   "pygments_lexer": "ipython2",
   "version": "2.7.14"
  }
 },
 "nbformat": 4,
 "nbformat_minor": 2
}
